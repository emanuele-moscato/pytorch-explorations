{
 "cells": [
  {
   "cell_type": "markdown",
   "id": "4aa924b1-58f1-4392-9534-4accf7b6e8f3",
   "metadata": {},
   "source": [
    "# PyTorch fundamentals"
   ]
  },
  {
   "cell_type": "markdown",
   "id": "9af79e11-fc08-4b94-b9f4-3a19360299ed",
   "metadata": {},
   "source": [
    "__Objective:__ explore the fundamentals of the PyTorch library."
   ]
  },
  {
   "cell_type": "code",
   "execution_count": null,
   "id": "d160210f-aa18-44aa-8af3-f95f1a8cacb7",
   "metadata": {},
   "outputs": [],
   "source": [
    "import torch"
   ]
  },
  {
   "cell_type": "markdown",
   "id": "27e230a2-7d5b-4154-b04f-d4d8d47e2332",
   "metadata": {},
   "source": [
    "## Tensors"
   ]
  },
  {
   "cell_type": "markdown",
   "id": "54e51dcd-ccc9-43f5-81ef-25cad5e6c308",
   "metadata": {},
   "source": [
    "**Source:** Stevens, Antiga, Viehmann, \"Deep learning with PyTorch\", 1st ed., Manning (2020)"
   ]
  },
  {
   "cell_type": "markdown",
   "id": "77b7618e-f0b9-474f-b31b-1de05ca3bb3b",
   "metadata": {},
   "source": [
    "Some ways to create tensors."
   ]
  },
  {
   "cell_type": "code",
   "execution_count": null,
   "id": "dfc455ab-a76a-43ab-9c5e-00979098c2f5",
   "metadata": {},
   "outputs": [],
   "source": [
    "torch.Tensor([[3., 5., 6.]]), torch.rand(5, 3), torch.ones((3, 4)), torch.zeros(4), torch.arange(3)"
   ]
  },
  {
   "cell_type": "markdown",
   "id": "015f43e5-4711-48a9-87af-79ea759127af",
   "metadata": {},
   "source": [
    "Getting the shape of a tensor."
   ]
  },
  {
   "cell_type": "code",
   "execution_count": null,
   "id": "ba78d3d1-1e61-4c4a-b2a3-e8875fe3515b",
   "metadata": {},
   "outputs": [],
   "source": [
    "torch.Tensor([\n",
    "    [0. , 1.],\n",
    "    [-1., -2.]\n",
    "]).shape"
   ]
  },
  {
   "cell_type": "code",
   "execution_count": null,
   "id": "13c3392e-94e6-418f-b5a5-1579be28d703",
   "metadata": {},
   "outputs": [],
   "source": [
    "# Scalars in PyTorch have one dimension.\n",
    "torch.Tensor([8.]).shape"
   ]
  },
  {
   "cell_type": "markdown",
   "id": "44053a1b-9a49-4950-9771-8037afd525e8",
   "metadata": {},
   "source": [
    "Adding a new dimension."
   ]
  },
  {
   "cell_type": "code",
   "execution_count": null,
   "id": "4d919781-e5dd-480c-b845-412415dbf0f0",
   "metadata": {},
   "outputs": [],
   "source": [
    "t = torch.arange(5)\n",
    "\n",
    "t.shape"
   ]
  },
  {
   "cell_type": "code",
   "execution_count": null,
   "id": "630237aa-60be-41e1-8c95-32f7a33b8385",
   "metadata": {},
   "outputs": [],
   "source": [
    "# Method 1: indexing with `None`.\n",
    "t[None, ..., None].shape"
   ]
  },
  {
   "cell_type": "code",
   "execution_count": null,
   "id": "e5093afb-e936-4e52-bc27-7772c47ced44",
   "metadata": {},
   "outputs": [],
   "source": [
    "# Method 2: unsing the `unsqueeze` method (adds only one dimension).\n",
    "torch.unsqueeze(t, axis=-1).shape"
   ]
  },
  {
   "cell_type": "markdown",
   "id": "84350398-224a-4a1c-9880-566eb5c0e945",
   "metadata": {},
   "source": [
    "Transposition.\n",
    "\n",
    "**Note:** the dimensions w.r.t. which we want to transpose must be specified when using the `transpose` method or function (but not when using the `t` method, which works only for two-dimensional tensors."
   ]
  },
  {
   "cell_type": "code",
   "execution_count": null,
   "id": "5aff65dd-f24c-4109-b49e-80285acbfb82",
   "metadata": {},
   "outputs": [],
   "source": [
    "# Calling the class method `transpose`.\n",
    "t[None, ...].transpose(0, 1).shape"
   ]
  },
  {
   "cell_type": "code",
   "execution_count": null,
   "id": "43dde0f6-ab41-44c9-a468-29490418a91b",
   "metadata": {},
   "outputs": [],
   "source": [
    "# Calling the class method `t`.\n",
    "t[None, ...].t()"
   ]
  },
  {
   "cell_type": "code",
   "execution_count": null,
   "id": "ab7ec722-f986-4317-a50b-38fb52b64969",
   "metadata": {},
   "outputs": [],
   "source": [
    "# Using the function.\n",
    "torch.transpose(t[None, ...], 0, 1).shape"
   ]
  },
  {
   "cell_type": "markdown",
   "id": "adcadde1-0b35-4833-aca5-4d757496e901",
   "metadata": {},
   "source": [
    "Broadcasting."
   ]
  },
  {
   "cell_type": "code",
   "execution_count": null,
   "id": "a0d8f932-e530-485e-9170-be6a4fafe7ad",
   "metadata": {},
   "outputs": [],
   "source": [
    "t1 = torch.Tensor([\n",
    "    [1., 2.],\n",
    "    [-3., 4.4]\n",
    "])\n",
    "\n",
    "t2 = torch.Tensor([\n",
    "    [1., 1.]\n",
    "])\n",
    "\n",
    "t3 = t1 + t2\n",
    "\n",
    "t1, t1.shape, t2, t2.shape, t3, t3.shape"
   ]
  },
  {
   "cell_type": "markdown",
   "id": "2ff6610c-006e-4079-89ec-54511769a563",
   "metadata": {},
   "source": [
    "Data types and conversions."
   ]
  },
  {
   "cell_type": "code",
   "execution_count": null,
   "id": "853903c9-aaa2-4446-9757-7ff66296bf1e",
   "metadata": {},
   "outputs": [],
   "source": [
    "t.dtype, t1.dtype"
   ]
  },
  {
   "cell_type": "code",
   "execution_count": null,
   "id": "f9f95557-cf27-4e79-9eff-9bb11a526a41",
   "metadata": {},
   "outputs": [],
   "source": [
    "t, t.to(dtype=torch.float32)"
   ]
  },
  {
   "cell_type": "markdown",
   "id": "332f4051-2642-4d65-85be-60086db28b60",
   "metadata": {},
   "source": [
    "In-place tensor method end with a trailing underscore."
   ]
  },
  {
   "cell_type": "code",
   "execution_count": null,
   "id": "d679db98-24cb-4658-a7d2-8751fdf8b08e",
   "metadata": {},
   "outputs": [],
   "source": [
    "t4 = torch.ones(3)\n",
    "\n",
    "print('Before calling the in-place method:', t4)\n",
    "\n",
    "t4.zero_()\n",
    "\n",
    "print('After calling the in-place method:', t4)"
   ]
  },
  {
   "cell_type": "markdown",
   "id": "c7993ade-d077-4760-b0cd-30d7203c1190",
   "metadata": {},
   "source": [
    "Contiguous tensors are tensors whose values are stored in contiguous parts of the memory (with a specific ordering in case there's more than one dimension) - this is something pertaining the underlying representation of the tensor, i.e. the `storage` it's associated with.\n",
    "\n",
    "Some operations only work on contiguous tensors, and tensors can be made contiguous (if they are not already)."
   ]
  },
  {
   "cell_type": "code",
   "execution_count": null,
   "id": "e04b9815-c90d-4ac1-800d-8d1b7a6567de",
   "metadata": {},
   "outputs": [],
   "source": [
    "# Tensors defined from values are contiguous by construction.\n",
    "t5 = torch.ones(2, 4)\n",
    "\n",
    "t5.is_contiguous()"
   ]
  },
  {
   "cell_type": "code",
   "execution_count": null,
   "id": "c8edf6e0-fbc2-4c5a-889b-d15e90a7f6a3",
   "metadata": {},
   "outputs": [],
   "source": [
    "# Transformed (e.g. transposed) tensors are not contiguous.\n",
    "t5_t = t5.t()\n",
    "\n",
    "t5_t.is_contiguous()"
   ]
  },
  {
   "cell_type": "code",
   "execution_count": null,
   "id": "c78ef69b-c74e-4799-b929-72b27abfe7c3",
   "metadata": {},
   "outputs": [],
   "source": [
    "# Tensors can be made contiguous by calling their `contiguous` method.\n",
    "t5_t_cont = t5_t.contiguous()\n",
    "\n",
    "t5_t_cont.is_contiguous()"
   ]
  },
  {
   "cell_type": "markdown",
   "id": "5784aa0c-8536-491b-b384-a441b6aa38cb",
   "metadata": {},
   "source": [
    "Managing devices (CPU/GPUs)."
   ]
  },
  {
   "cell_type": "code",
   "execution_count": null,
   "id": "4cf0bebc-3616-4b9f-8a88-80b48e5de0b1",
   "metadata": {},
   "outputs": [],
   "source": [
    "# Check if a GPU is available.\n",
    "torch.cuda.is_available()"
   ]
  },
  {
   "cell_type": "code",
   "execution_count": null,
   "id": "39d06f3f-83ab-4cdd-a9d8-732ee0176c59",
   "metadata": {},
   "outputs": [],
   "source": [
    "# List available GPUs.\n",
    "torch.cuda.device_count()"
   ]
  },
  {
   "cell_type": "markdown",
   "id": "6ca9626f-6e39-4d4d-ad70-5a521eb75040",
   "metadata": {},
   "source": [
    "Putting tensors on a GPU (**if available!**). Operations on tensors in the GPU are executed on the GPU."
   ]
  },
  {
   "cell_type": "code",
   "execution_count": null,
   "id": "50d1f82e-9154-4401-b195-5af4e3fd77d3",
   "metadata": {},
   "outputs": [],
   "source": [
    "# Create a tensor on the GPU (GPU RAM).\n",
    "# t_gpu = torch.ones(1, 3, dtype=torch.int32, device='cuda')\n",
    "\n",
    "# Put a tensor created on the CPU (system RAM) to the GPU (GPU RAM).\n",
    "# t1.to(device='cuda')"
   ]
  },
  {
   "cell_type": "markdown",
   "id": "ea2a5235-9211-4f78-bff8-09d846740be6",
   "metadata": {},
   "source": [
    "NumPy interoperability."
   ]
  },
  {
   "cell_type": "code",
   "execution_count": null,
   "id": "dbef1bde-64fd-484f-82ea-1d823074c75f",
   "metadata": {},
   "outputs": [],
   "source": [
    "# The `numpy` method returns the corresponding NumPy array\n",
    "# (referencing the same underlying memory blocks!). If the\n",
    "# tensor in on the GPU, a copy of it is made on the CPU.\n",
    "t1.numpy()"
   ]
  },
  {
   "cell_type": "code",
   "execution_count": null,
   "id": "8a43ff2b-f2f2-4ccd-9091-e033c6d0559b",
   "metadata": {},
   "outputs": [],
   "source": [
    "import numpy as np\n",
    "\n",
    "# Tensors can be obtained from NumPy arrays with the\n",
    "# `from_numpy` function, but the default dtype is NumPy's\n",
    "# float64 (we can convert it later if needed).\n",
    "torch.from_numpy(np.eye(3, 3))"
   ]
  },
  {
   "cell_type": "markdown",
   "id": "796aca10-fe9e-43c2-b88a-00c53e70d39f",
   "metadata": {},
   "source": [
    "Serializing and saving tensors to disk."
   ]
  },
  {
   "cell_type": "code",
   "execution_count": null,
   "id": "674af5db-8a58-4209-a6ac-4697fac8dfaa",
   "metadata": {},
   "outputs": [],
   "source": [
    "# Save tensor to disk.\n",
    "path = '../data/t1.t'\n",
    "\n",
    "torch.save(t1, path)"
   ]
  },
  {
   "cell_type": "code",
   "execution_count": null,
   "id": "ea366810-a613-4af7-bb08-ab7e7d3a9531",
   "metadata": {},
   "outputs": [],
   "source": [
    "# Load tensor from disk.\n",
    "t1_loaded = torch.load(path)\n",
    "\n",
    "t1_loaded"
   ]
  }
 ],
 "metadata": {
  "kernelspec": {
   "display_name": "Python 3 (ipykernel)",
   "language": "python",
   "name": "python3"
  },
  "language_info": {
   "codemirror_mode": {
    "name": "ipython",
    "version": 3
   },
   "file_extension": ".py",
   "mimetype": "text/x-python",
   "name": "python",
   "nbconvert_exporter": "python",
   "pygments_lexer": "ipython3",
   "version": "3.10.13"
  }
 },
 "nbformat": 4,
 "nbformat_minor": 5
}
